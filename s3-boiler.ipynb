{
 "cells": [
  {
   "cell_type": "code",
   "execution_count": 1,
   "id": "e72b6b60-0c9d-438c-b0ae-68e32829ff3a",
   "metadata": {
    "kernel": "Python3",
    "tags": []
   },
   "outputs": [
    {
     "name": "stdout",
     "output_type": "stream",
     "text": [
      "bucketybucket\n",
      "code4cville-terraform-state\n",
      "lidardb\n",
      "newbucket\n",
      "virginia-court-data-code4cville\n"
     ]
    }
   ],
   "source": [
    "import boto3\n",
    "import os\n",
    "\n",
    "keyId=os.environ[\"S3_KEY_ID\"]\n",
    "accessKey=os.environ[\"S3_ACCESS_KEY\"]\n",
    "\n",
    "s3 = boto3.resource(\n",
    "    's3',\n",
    "    aws_access_key_id=keyId,\n",
    "    aws_secret_access_key=accessKey,\n",
    "    region_name=\"us-ashburn-1\", # Region name here that matches the endpoint\n",
    "    endpoint_url=\"https://idbllzgo8pgz.compat.objectstorage.us-ashburn-1.oraclecloud.com\" # Include your namespace in the URL\n",
    ")\n",
    "  \n",
    "# Print out the bucket names\n",
    "for bucket in s3.buckets.all():\n",
    "    print(bucket.name)"
   ]
  },
  {
   "cell_type": "code",
   "execution_count": null,
   "id": "55f21455-39d1-4ad6-bc72-82ae0139d3d0",
   "metadata": {
    "kernel": "R",
    "tags": []
   },
   "outputs": [],
   "source": [
    "library(aws.s3)\n",
    "library(arrow)\n",
    "endpoint_url=\"idbllzgo8pgz.compat.objectstorage.us-ashburn-1.oraclecloud.com\"\n",
    "\n",
    "\n",
    "Sys.setenv(\n",
    "  \"AWS_ACCESS_KEY_ID\" = Sys.getenv(\"S3_KEY_ID\"),\n",
    "  \"AWS_SECRET_ACCESS_KEY\" = Sys.getenv(\"S3_ACCESS_KEY\"),\n",
    "  \"AWS_DEFAULT_REGION\" = \"us-ashburn-1\",\n",
    "  \"AWS_S3_ENDPOINT\" = endpoint_url\n",
    ")\n",
    "\n",
    "bucketlist(region = \"\")\n",
    "\n",
    "# specify keys in-line\n",
    "get_bucket(\n",
    "  bucket = \"virginia-court-data-code4cville\",\n",
    "  key = \"cbb3ce342492c2f7a8c215d82fac34efcbc18773\",\n",
    "  secret = \"iujrafb3h5yThT7QNXsptfIG4srJ5/J3/VLqiaHJ/mM=\", region = \"\"\n",
    ")"
   ]
  }
 ],
 "metadata": {
  "kernelspec": {
   "display_name": "SoS",
   "language": "sos",
   "name": "sos"
  },
  "language_info": {
   "codemirror_mode": "sos",
   "file_extension": ".sos",
   "mimetype": "text/x-sos",
   "name": "sos",
   "nbconvert_exporter": "sos_notebook.converter.SoS_Exporter",
   "pygments_lexer": "sos"
  },
  "sos": {
   "kernels": [
    [
     "Python3",
     "python3",
     "Python3",
     "#FFD91A",
     ""
    ],
    [
     "R",
     "ir",
     "R",
     "#DCDCDA",
     ""
    ]
   ],
   "version": "0.22.3"
  }
 },
 "nbformat": 4,
 "nbformat_minor": 5
}
