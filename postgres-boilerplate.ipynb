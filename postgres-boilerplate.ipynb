{
 "cells": [
  {
   "cell_type": "code",
   "execution_count": 7,
   "id": "95865962-89c8-4247-9e68-ebb3028eb2fb",
   "metadata": {
    "kernel": "Python3",
    "tags": []
   },
   "outputs": [
    {
     "name": "stdout",
     "output_type": "stream",
     "text": [
      "<cursor object at 0x7f83fa960d50; closed: 0>\n",
      "        rperson_id HearingDate CodeSection   ChargeType Class  \\\n",
      "0  100000000000001  2010-08-25  18.2-250.1  Misdemeanor     U   \n",
      "1  124200000000013  2016-04-11  A.46.2-852  Misdemeanor    NA   \n",
      "2  124200000000014  2013-09-19  A.46.2-862  Misdemeanor    NA   \n",
      "3  124200000000014  2016-09-15  A.46.2-862  Misdemeanor    NA   \n",
      "4  100000000000004  2018-01-10    18.2-111       Felony     O   \n",
      "\n",
      "      DispositionCode Plea                           Race   Sex fips  \\\n",
      "0      Nolle Prosequi   NA            Black(Non-Hispanic)  Male   87   \n",
      "1           Dismissed   NA  White Caucasian(Non-Hispanic)  Male  153   \n",
      "2              Guilty   NA                       Hispanic  Male  153   \n",
      "3  Guilty In Absentia   NA                       Hispanic  Male   25   \n",
      "4      Nolle Prosequi   NA  White Caucasian(Non-Hispanic)  Male  510   \n",
      "\n",
      "              Locality          expungable  \\\n",
      "0   COMMONWEALTH OF VA           Automatic   \n",
      "1    PRINCE WILLIAM CO           Automatic   \n",
      "2   COMMONWEALTH OF VA            Petition   \n",
      "3  COUNTY OF BRUNSWICK  Petition (pending)   \n",
      "4   COMMONWEALTH OF VA        Not eligible   \n",
      "\n",
      "                                              reason old_expungable  \n",
      "0  Dismissal of misdemeanor charges with no prior...           TRUE  \n",
      "1  Dismissal of misdemeanor charges with no prior...           TRUE  \n",
      "2  Conviction of misdemeanor charges other than t...          FALSE  \n",
      "3  Conviction of misdemeanor charges with no clas...          FALSE  \n",
      "4  Not convicted, felony charge covered in a sect...           TRUE  \n"
     ]
    }
   ],
   "source": [
    "import sqlalchemy as sa\n",
    "from sqlalchemy import create_engine\n",
    "import psycopg2 as db\n",
    "import pandas as pd\n",
    "\n",
    "import os\n",
    "\n",
    "postPass=os.environ[\"POSTGRES_PASS\"]\n",
    "try:\n",
    "    conn = db.connect(host='localhost', database='expunge', user='jupyter', password=postPass, port='5432')\n",
    "except:\n",
    "    print(\"I am unable to connect to the database\") \n",
    "\n",
    "cur = conn.cursor()\n",
    "try:\n",
    "    tables=cur.execute(\"select * from pg_catalog.pg_tables WHERE schemaname != 'information_schema' AND schemaname != 'pg_catalog';\")\n",
    "    print(cur)\n",
    "except:\n",
    "    print(\"I can't drop our test database!\")\n",
    "\n",
    "query = \"\"\"SELECT * FROM public.expunge LIMIT 100\"\"\"\n",
    "products = pd.read_sql(query,con=conn)\n",
    "print(products.head())\n",
    "\n",
    "conn.commit() # <--- makes sure the change is shown in the database\n",
    "conn.close()\n",
    "cur.close()"
   ]
  },
  {
   "cell_type": "code",
   "execution_count": 2,
   "id": "a2749ec8-dfdf-4351-a5d5-d5dd20c01b98",
   "metadata": {
    "kernel": "R",
    "tags": []
   },
   "outputs": [
    {
     "name": "stderr",
     "output_type": "stream",
     "text": [
      "Installing package into ‘/home/jupyter-alibama/R/x86_64-conda-linux-gnu-library/4.0’\n",
      "(as ‘lib’ is unspecified)\n",
      "\n"
     ]
    },
    {
     "ename": "ERROR",
     "evalue": "Error in dbConnect(RPostgres::Postgres()): could not find function \"dbConnect\"\n",
     "output_type": "error",
     "traceback": [
      "Error in dbConnect(RPostgres::Postgres()): could not find function \"dbConnect\"\nTraceback:\n"
     ]
    }
   ],
   "source": [
    "install.packages('RPostgres')\n",
    "con<-dbConnect(RPostgres::Postgres())\n",
    "\n",
    "library(DBI)\n",
    "\n",
    "db <- 'expunge'  #provide the name of your db\n",
    "\n",
    "host_db <- 'localhost' #i.e. # i.e. 'ec2-54-83-201-96.compute-1.amazonaws.com'  \n",
    "\n",
    "db_port <- '5432'  # or any other port specified by the DBA\n",
    "\n",
    "db_user <- expunge  \n",
    "\n",
    "db_password <- 'codeforcville'\n",
    "\n",
    "con <- dbConnect(RPostgres::Postgres(), dbname = db, host=host_db, port=db_port, user=db_user, password=db_password)  \n",
    "dbListTables(con) "
   ]
  },
  {
   "cell_type": "code",
   "execution_count": 2,
   "id": "f2a9c293-a518-42a0-9814-61f1ac56b035",
   "metadata": {
    "kernel": "R"
   },
   "outputs": [
    {
     "name": "stderr",
     "output_type": "stream",
     "text": [
      "Installing package into ‘/home/jupyter-alibama/R/x86_64-conda-linux-gnu-library/4.0’\n",
      "(as ‘lib’ is unspecified)\n",
      "\n",
      "also installing the dependencies ‘lattice’, ‘colorspace’, ‘ps’, ‘cli’, ‘rappdirs’, ‘rematch’, ‘nlme’, ‘Matrix’, ‘farver’, ‘labeling’, ‘munsell’, ‘RColorBrewer’, ‘viridisLite’, ‘prettyunits’, ‘processx’, ‘highr’, ‘markdown’, ‘yaml’, ‘xfun’, ‘tinytex’, ‘backports’, ‘tidyselect’, ‘data.table’, ‘curl’, ‘gargle’, ‘cellranger’, ‘ids’, ‘rematch2’, ‘gtable’, ‘isoband’, ‘MASS’, ‘mgcv’, ‘scales’, ‘cpp11’, ‘clipr’, ‘BH’, ‘progress’, ‘callr’, ‘fs’, ‘knitr’, ‘rmarkdown’, ‘selectr’, ‘stringi’, ‘broom’, ‘dbplyr’, ‘dplyr’, ‘dtplyr’, ‘forcats’, ‘googledrive’, ‘googlesheets4’, ‘ggplot2’, ‘haven’, ‘httr’, ‘modelr’, ‘purrr’, ‘readr’, ‘readxl’, ‘reprex’, ‘rstudioapi’, ‘rvest’, ‘stringr’, ‘tidyr’\n",
      "\n",
      "\n",
      "Warning message in install.packages(\"tidyverse\"):\n",
      "“installation of package ‘curl’ had non-zero exit status”\n",
      "Warning message in install.packages(\"tidyverse\"):\n",
      "“installation of package ‘httr’ had non-zero exit status”\n",
      "Warning message in install.packages(\"tidyverse\"):\n",
      "“installation of package ‘gargle’ had non-zero exit status”\n",
      "Warning message in install.packages(\"tidyverse\"):\n",
      "“installation of package ‘googledrive’ had non-zero exit status”\n",
      "Warning message in install.packages(\"tidyverse\"):\n",
      "“installation of package ‘rvest’ had non-zero exit status”\n",
      "Warning message in install.packages(\"tidyverse\"):\n",
      "“installation of package ‘googlesheets4’ had non-zero exit status”\n",
      "Warning message in install.packages(\"tidyverse\"):\n",
      "“installation of package ‘tidyverse’ had non-zero exit status”\n"
     ]
    }
   ],
   "source": [
    "install.packages('tidyverse')"
   ]
  },
  {
   "cell_type": "code",
   "execution_count": null,
   "id": "8f21456e-c676-4d2a-9f81-a2d1d1e232d5",
   "metadata": {
    "kernel": "R",
    "tags": []
   },
   "outputs": [],
   "source": [
    "read_district_file <- function(.f) {\n",
    "  fread(\n",
    "    .f,\n",
    "    select = c(\n",
    "      \"Locality\",\n",
    "      \"HearingDate\",\n",
    "      \"person_id\",\n",
    "      \"CodeSection\",\n",
    "      \"FinalDisposition\",\n",
    "      \"CaseType\",\n",
    "      \"Charge\"\n",
    "    )\n",
    "  ) %>% \n",
    "    rename(\n",
    "      DispositionCode = FinalDisposition,\n",
    "      ChargeType = CaseType\n",
    "    ) %>%\n",
    "    mutate(\n",
    "      CourtType = \"district\"\n",
    "    )\n",
    "}\n",
    "read_circuit_file <- function(.f) {\n",
    "  fread(\n",
    "    .f,\n",
    "    select = c(\n",
    "      \"Locality\",\n",
    "      \"HearingDate\",\n",
    "      \"person_id\",\n",
    "      \"CodeSection\",\n",
    "      \"DispositionCode\",\n",
    "      \"ChargeType\",\n",
    "      \"Charge\"  \n",
    "    )\n",
    "  ) %>%\n",
    "    mutate(\n",
    "      CourtType = \"circuit\"\n",
    "    )\n",
    "}\n",
    "read_court_file <- function(.f) {\n",
    "  if (str_detect(.f, \"district\")) {\n",
    "    read_district_file(.f)\n",
    "  } else if (str_detect(.f, \"circuit\")) {\n",
    "    read_circuit_file(.f)\n",
    "  } else {\n",
    "    stop(paste(\"unknown file type:\", .f))\n",
    "  }\n",
    "}"
   ]
  }
 ],
 "metadata": {
  "kernelspec": {
   "display_name": "SoS",
   "language": "sos",
   "name": "sos"
  },
  "language_info": {
   "codemirror_mode": "sos",
   "file_extension": ".sos",
   "mimetype": "text/x-sos",
   "name": "sos",
   "nbconvert_exporter": "sos_notebook.converter.SoS_Exporter",
   "pygments_lexer": "sos"
  },
  "sos": {
   "kernels": [
    [
     "Python3",
     "python3",
     "Python3",
     "#FFD91A",
     ""
    ],
    [
     "R",
     "ir",
     "R",
     "#DCDCDA",
     "r"
    ]
   ],
   "version": "0.22.3"
  }
 },
 "nbformat": 4,
 "nbformat_minor": 5
}
