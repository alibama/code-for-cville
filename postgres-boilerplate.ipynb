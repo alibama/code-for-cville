{
 "cells": [
  {
   "cell_type": "code",
   "execution_count": null,
   "id": "95865962-89c8-4247-9e68-ebb3028eb2fb",
   "metadata": {
    "kernel": "Python3",
    "tags": []
   },
   "outputs": [],
   "source": [
    "import sqlalchemy as sa\n",
    "from sqlalchemy import create_engine\n",
    "#engine = create_engine(\"postgresql:///?User=postgres&Password=admin&Database=postgres&Server=127.0.0.1&Port=5432\")\n",
    "#engine = create_engine(\"postgresql:///?User=jupyter&;Password=code4cville&Database=expunge&Server=127.0.0.1&Port=5432\")\n",
    "import psycopg2 as db\n",
    "import pandas as pd\n",
    "\n",
    "import os\n",
    "\n",
    "postPass=os.environ[\"POSTGRES_PASS\"]\n",
    "#print(postPass)\n",
    "try:\n",
    "    conn = db.connect(host='localhost', database='expunge', user='jupyter', password=postPass, port='5432')\n",
    "except:\n",
    "    print(\"I am unable to connect to the database\") \n",
    "\n",
    "cur = conn.cursor()\n",
    "try:\n",
    "    tables=cur.execute(\"select * from pg_catalog.pg_tables WHERE schemaname != 'information_schema' AND schemaname != 'pg_catalog';\")\n",
    "    print(cur)\n",
    "except:\n",
    "    print(\"I can't drop our test database!\")\n",
    "query = \"\"\"SELECT * FROM public.expunge LIMIT 100\"\"\"\n",
    "products = pd.read_sql(query,con=conn)\n",
    "print(products.head())\n",
    "\n",
    "conn.commit() # <--- makes sure the change is shown in the database\n",
    "conn.close()\n",
    "cur.close()"
   ]
  },
  {
   "cell_type": "code",
   "execution_count": 2,
   "id": "a2749ec8-dfdf-4351-a5d5-d5dd20c01b98",
   "metadata": {
    "kernel": "R",
    "tags": []
   },
   "outputs": [
    {
     "name": "stderr",
     "output_type": "stream",
     "text": [
      "Installing package into ‘/home/jupyter-alibama/R/x86_64-conda-linux-gnu-library/4.0’\n",
      "(as ‘lib’ is unspecified)\n",
      "\n"
     ]
    },
    {
     "ename": "ERROR",
     "evalue": "Error in dbConnect(RPostgres::Postgres()): could not find function \"dbConnect\"\n",
     "output_type": "error",
     "traceback": [
      "Error in dbConnect(RPostgres::Postgres()): could not find function \"dbConnect\"\nTraceback:\n"
     ]
    }
   ],
   "source": [
    "install.packages('RPostgres')\n",
    "con<-dbConnect(RPostgres::Postgres())\n",
    "\n",
    "library(DBI)\n",
    "\n",
    "db <- 'expunge'  #provide the name of your db\n",
    "\n",
    "host_db <- 'localhost' #i.e. # i.e. 'ec2-54-83-201-96.compute-1.amazonaws.com'  \n",
    "\n",
    "db_port <- '5432'  # or any other port specified by the DBA\n",
    "\n",
    "db_user <- expunge  \n",
    "\n",
    "db_password <- 'codeforcville'\n",
    "\n",
    "con <- dbConnect(RPostgres::Postgres(), dbname = db, host=host_db, port=db_port, user=db_user, password=db_password)  \n",
    "dbListTables(con) "
   ]
  },
  {
   "cell_type": "code",
   "execution_count": 2,
   "id": "f2a9c293-a518-42a0-9814-61f1ac56b035",
   "metadata": {
    "kernel": "R"
   },
   "outputs": [
    {
     "name": "stderr",
     "output_type": "stream",
     "text": [
      "Installing package into ‘/home/jupyter-alibama/R/x86_64-conda-linux-gnu-library/4.0’\n",
      "(as ‘lib’ is unspecified)\n",
      "\n",
      "also installing the dependencies ‘lattice’, ‘colorspace’, ‘ps’, ‘cli’, ‘rappdirs’, ‘rematch’, ‘nlme’, ‘Matrix’, ‘farver’, ‘labeling’, ‘munsell’, ‘RColorBrewer’, ‘viridisLite’, ‘prettyunits’, ‘processx’, ‘highr’, ‘markdown’, ‘yaml’, ‘xfun’, ‘tinytex’, ‘backports’, ‘tidyselect’, ‘data.table’, ‘curl’, ‘gargle’, ‘cellranger’, ‘ids’, ‘rematch2’, ‘gtable’, ‘isoband’, ‘MASS’, ‘mgcv’, ‘scales’, ‘cpp11’, ‘clipr’, ‘BH’, ‘progress’, ‘callr’, ‘fs’, ‘knitr’, ‘rmarkdown’, ‘selectr’, ‘stringi’, ‘broom’, ‘dbplyr’, ‘dplyr’, ‘dtplyr’, ‘forcats’, ‘googledrive’, ‘googlesheets4’, ‘ggplot2’, ‘haven’, ‘httr’, ‘modelr’, ‘purrr’, ‘readr’, ‘readxl’, ‘reprex’, ‘rstudioapi’, ‘rvest’, ‘stringr’, ‘tidyr’\n",
      "\n",
      "\n",
      "Warning message in install.packages(\"tidyverse\"):\n",
      "“installation of package ‘curl’ had non-zero exit status”\n",
      "Warning message in install.packages(\"tidyverse\"):\n",
      "“installation of package ‘httr’ had non-zero exit status”\n",
      "Warning message in install.packages(\"tidyverse\"):\n",
      "“installation of package ‘gargle’ had non-zero exit status”\n",
      "Warning message in install.packages(\"tidyverse\"):\n",
      "“installation of package ‘googledrive’ had non-zero exit status”\n",
      "Warning message in install.packages(\"tidyverse\"):\n",
      "“installation of package ‘rvest’ had non-zero exit status”\n",
      "Warning message in install.packages(\"tidyverse\"):\n",
      "“installation of package ‘googlesheets4’ had non-zero exit status”\n",
      "Warning message in install.packages(\"tidyverse\"):\n",
      "“installation of package ‘tidyverse’ had non-zero exit status”\n"
     ]
    }
   ],
   "source": [
    "install.packages('tidyverse')"
   ]
  },
  {
   "cell_type": "code",
   "execution_count": null,
   "id": "8f21456e-c676-4d2a-9f81-a2d1d1e232d5",
   "metadata": {
    "kernel": "R",
    "tags": []
   },
   "outputs": [],
   "source": [
    "read_district_file <- function(.f) {\n",
    "  fread(\n",
    "    .f,\n",
    "    select = c(\n",
    "      \"Locality\",\n",
    "      \"HearingDate\",\n",
    "      \"person_id\",\n",
    "      \"CodeSection\",\n",
    "      \"FinalDisposition\",\n",
    "      \"CaseType\",\n",
    "      \"Charge\"\n",
    "    )\n",
    "  ) %>% \n",
    "    rename(\n",
    "      DispositionCode = FinalDisposition,\n",
    "      ChargeType = CaseType\n",
    "    ) %>%\n",
    "    mutate(\n",
    "      CourtType = \"district\"\n",
    "    )\n",
    "}\n",
    "read_circuit_file <- function(.f) {\n",
    "  fread(\n",
    "    .f,\n",
    "    select = c(\n",
    "      \"Locality\",\n",
    "      \"HearingDate\",\n",
    "      \"person_id\",\n",
    "      \"CodeSection\",\n",
    "      \"DispositionCode\",\n",
    "      \"ChargeType\",\n",
    "      \"Charge\"  \n",
    "    )\n",
    "  ) %>%\n",
    "    mutate(\n",
    "      CourtType = \"circuit\"\n",
    "    )\n",
    "}\n",
    "read_court_file <- function(.f) {\n",
    "  if (str_detect(.f, \"district\")) {\n",
    "    read_district_file(.f)\n",
    "  } else if (str_detect(.f, \"circuit\")) {\n",
    "    read_circuit_file(.f)\n",
    "  } else {\n",
    "    stop(paste(\"unknown file type:\", .f))\n",
    "  }\n",
    "}"
   ]
  }
 ],
 "metadata": {
  "kernelspec": {
   "display_name": "SoS",
   "language": "sos",
   "name": "sos"
  },
  "language_info": {
   "codemirror_mode": "sos",
   "file_extension": ".sos",
   "mimetype": "text/x-sos",
   "name": "sos",
   "nbconvert_exporter": "sos_notebook.converter.SoS_Exporter",
   "pygments_lexer": "sos"
  },
  "sos": {
   "kernels": [
    [
     "Python3",
     "python3",
     "Python3",
     "#FFD91A",
     ""
    ],
    [
     "R",
     "ir",
     "R",
     "#DCDCDA",
     "r"
    ]
   ],
   "version": "0.22.3"
  }
 },
 "nbformat": 4,
 "nbformat_minor": 5
}
