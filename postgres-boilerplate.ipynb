{
 "cells": [
  {
   "cell_type": "code",
   "execution_count": 1,
   "id": "95865962-89c8-4247-9e68-ebb3028eb2fb",
   "metadata": {
    "kernel": "Python3",
    "tags": []
   },
   "outputs": [
    {
     "name": "stdout",
     "output_type": "stream",
     "text": [
      "<cursor object at 0x7fa95375ed50; closed: 0>\n"
     ]
    }
   ],
   "source": [
    "import sqlalchemy as sa\n",
    "from sqlalchemy import create_engine\n",
    "#engine = create_engine(\"postgresql:///?User=postgres&Password=admin&Database=postgres&Server=127.0.0.1&Port=5432\")\n",
    "#engine = create_engine(\"postgresql:///?User=jupyter&;Password=code4cville&Database=expunge&Server=127.0.0.1&Port=5432\")\n",
    "import psycopg2 as db\n",
    "\n",
    "import os\n",
    "\n",
    "postPass=os.environ[\"POSTGRES_PASS\"]\n",
    "#print(postPass)\n",
    "try:\n",
    "    conn = db.connect(host='localhost', database='expunge', user='jupyter', password=postPass, port='5432')\n",
    "except:\n",
    "    print(\"I am unable to connect to the database\") \n",
    "\n",
    "cur = conn.cursor()\n",
    "try:\n",
    "    tables=cur.execute(\"select * from pg_catalog.pg_tables WHERE schemaname != 'information_schema' AND schemaname != 'pg_catalog';\")\n",
    "    print(cur)\n",
    "except:\n",
    "    print(\"I can't drop our test database!\")\n",
    "\n",
    "conn.commit() # <--- makes sure the change is shown in the database\n",
    "conn.close()\n",
    "cur.close()"
   ]
  },
  {
   "cell_type": "code",
   "execution_count": null,
   "id": "a2749ec8-dfdf-4351-a5d5-d5dd20c01b98",
   "metadata": {
    "kernel": "SoS"
   },
   "outputs": [],
   "source": []
  },
  {
   "cell_type": "code",
   "execution_count": null,
   "id": "8f21456e-c676-4d2a-9f81-a2d1d1e232d5",
   "metadata": {
    "kernel": "SoS"
   },
   "outputs": [],
   "source": []
  }
 ],
 "metadata": {
  "kernelspec": {
   "display_name": "SoS",
   "language": "sos",
   "name": "sos"
  },
  "language_info": {
   "codemirror_mode": "sos",
   "file_extension": ".sos",
   "mimetype": "text/x-sos",
   "name": "sos",
   "nbconvert_exporter": "sos_notebook.converter.SoS_Exporter",
   "pygments_lexer": "sos"
  },
  "sos": {
   "kernels": [
    [
     "Python3",
     "python3",
     "Python3",
     "#FFD91A",
     ""
    ]
   ],
   "version": "0.22.3"
  }
 },
 "nbformat": 4,
 "nbformat_minor": 5
}
