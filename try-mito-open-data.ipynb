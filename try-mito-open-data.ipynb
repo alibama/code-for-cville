{
 "cells": [
  {
   "cell_type": "code",
   "execution_count": 4,
   "id": "b8f67caa-eaa6-4f20-b33c-ae20e68c69a5",
   "metadata": {
    "kernel": "SoS"
   },
   "outputs": [
    {
     "data": {
      "application/vnd.jupyter.widget-view+json": {
       "model_id": "b86f5369ffba4b31b4d918cb847e54a4",
       "version_major": 2,
       "version_minor": 0
      },
      "text/plain": [
       "MitoWidget(analysis_name='UUID-556310c8-3713-4bc5-9b16-fddaed87e7fb', code_json='{\"imports\": \"from mitosheet i…"
      ]
     },
     "metadata": {},
     "output_type": "display_data"
    },
    {
     "data": {},
     "execution_count": 4,
     "metadata": {},
     "output_type": "execute_result"
    }
   ],
   "source": [
    "import math\n",
    "import numpy as np\n",
    "import json\n",
    "import altair as alt\n",
    "from urllib.request import urlopen\n",
    "#from xml.etree.ElementTree import parse\n",
    "import urllib\n",
    "import urllib.parse as urlparse\n",
    "import requests\n",
    "import pandas as pd\n",
    "import mitosheet\n",
    "import fuzzywuzzy\n",
    "from fuzzywuzzy import fuzz\n",
    "from fuzzywuzzy import process\n",
    "\n",
    "def bigask ():\n",
    "    dct = {}\n",
    "    for col in ['oa','author','year','title','doi','cited','aff']:\n",
    "        dct[col] = []\n",
    "\n",
    "    cr_mrk= '' #current cursor mark\n",
    "    nxt_mrk = '*' #next cursor mark\n",
    "    while cr_mrk != nxt_mrk:              \n",
    "        url = 'https://www.ebi.ac.uk/europepmc/webservices/rest/search?'\n",
    "        query = '(AFF:\"University of Virginia\") AND (FIRST_PDATE:[2017-01-01 TO 2020-12-31])'\n",
    "        params = {'query':query, 'resultType':'core', 'synonym':'TRUE','cursorMark':nxt_mrk,'pageSize':'1000','format':'json'}\n",
    "        response = requests.get(url,params)\n",
    "        rjson = response.json()\n",
    "        cr_mrk = urlparse.unquote(rjson['request']['cursorMark'])\n",
    "        nxt_mrk = urlparse.unquote(rjson['nextCursorMark'])\n",
    "        for rslt in rjson['resultList']['result']:\n",
    "            dct['author'].append(rslt['authorString']) if 'authorString' in rslt.keys() else dct['author'].append(0)\n",
    "            dct['year'].append(rslt['pubYear']) if 'pubYear' in rslt.keys() else dct['year'].append(0)\n",
    "            dct['title'].append(rslt['title']) if 'title' in rslt.keys() else dct['title'].append(0)\n",
    "            dct['doi'].append(rslt['doi']) if 'doi' in rslt.keys() else dct['doi'].append(0)\n",
    "#           dct['id'].append(rslt['id']) if 'id' in rslt.keys() else dct['id'].append(0)\n",
    "            dct['oa'].append(rslt['isOpenAccess']) if 'isOpenAccess' in rslt.keys() else dct['oa'].append(0)\n",
    "            dct['cited'].append(rslt['citedByCount']) if 'citedByCount' in rslt.keys() else dct['cited'].append(0) \n",
    "            dct['aff'].append(rslt['affiliation']) if 'affiliation' in rslt.keys() else dct['aff'].append(0) \n",
    "    df=pd.DataFrame.from_dict(dct, orient='columns')\n",
    "    return df\n",
    "dfdata=bigask()\n",
    "url = 'https://query.wikidata.org/sparql'\n",
    "query = '''\n",
    "SELECT ?item ?itemLabel ?linkcount WHERE {\n",
    "    ?item wdt:P31/wdt:P279* wd:Q35666 .\n",
    "    ?item wikibase:sitelinks ?linkcount .\n",
    "FILTER (?linkcount >= 1) .\n",
    "SERVICE wikibase:label { bd:serviceParam wikibase:language \"[AUTO_LANGUAGE],en\" . }\n",
    "}\n",
    "GROUP BY ?item ?itemLabel ?linkcount\n",
    "ORDER BY DESC(?linkcount)\n",
    "'''\n",
    "r = requests.get(url, params = {'format': 'json', 'query': query})\n",
    "data = r.json()\n",
    "sparqldf = pd.DataFrame.from_dict(data)\n",
    "\n",
    "mitosheet.sheet(dfdata,sparqldf)"
   ]
  },
  {
   "cell_type": "code",
   "execution_count": null,
   "id": "3a571e51-d3f9-44c5-8fbf-82f9679c7687",
   "metadata": {
    "kernel": "SoS"
   },
   "outputs": [],
   "source": []
  },
  {
   "cell_type": "code",
   "execution_count": null,
   "id": "ea3f6efc-15c7-4da1-adc7-4742f3f0421a",
   "metadata": {
    "kernel": "SoS"
   },
   "outputs": [],
   "source": [
    "# MITO CODE START (DO NOT EDIT)\n",
    "\n",
    "from mitosheet import * # Import necessary functions from Mito\n",
    "register_analysis('UUID-22e5bab3-950c-44b1-824b-d1a4f81b589c') # Let Mito know which analysis is being run\n",
    "\n",
    "# Set column cited at index 9 in dfdata to 2\n",
    "dfdata.at[9, 'cited'] = 2\n",
    "\n",
    "# Set column oa at index 13 in dfdata to Y\n",
    "dfdata.at[13, 'oa'] = \"Y\"\n",
    "\n",
    "# Sorted oa in dfdata in ascending order\n",
    "dfdata = dfdata.sort_values(by='oa', ascending=True, na_position='first')\n",
    "\n",
    "# Set column aff at index 7208 in dfdata to asdf\n",
    "dfdata.at[7208, 'aff'] = \"asdf\"\n",
    "\n",
    "  \n",
    "# MITO CODE END (DO NOT EDIT)"
   ]
  },
  {
   "cell_type": "code",
   "execution_count": null,
   "id": "9fc4a33e-3d57-4df8-aee0-642633716f14",
   "metadata": {
    "kernel": "SoS"
   },
   "outputs": [],
   "source": []
  },
  {
   "cell_type": "code",
   "execution_count": null,
   "id": "59a30b26-22c0-446b-acf0-2c23e1eb3267",
   "metadata": {
    "kernel": "SoS"
   },
   "outputs": [],
   "source": []
  }
 ],
 "metadata": {
  "kernelspec": {
   "display_name": "SoS",
   "language": "sos",
   "name": "sos"
  },
  "language_info": {
   "codemirror_mode": "sos",
   "file_extension": ".sos",
   "mimetype": "text/x-sos",
   "name": "sos",
   "nbconvert_exporter": "sos_notebook.converter.SoS_Exporter",
   "pygments_lexer": "sos"
  },
  "sos": {
   "kernels": [
    [
     "SoS",
     "sos",
     "",
     ""
    ]
   ],
   "version": "0.22.3"
  }
 },
 "nbformat": 4,
 "nbformat_minor": 5
}
