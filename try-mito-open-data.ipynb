{
 "cells": [
  {
   "cell_type": "code",
   "execution_count": 3,
   "id": "b8f67caa-eaa6-4f20-b33c-ae20e68c69a5",
   "metadata": {
    "kernel": "SoS"
   },
   "outputs": [
    {
     "data": {
      "application/vnd.jupyter.widget-view+json": {
       "model_id": "0412c57af30b48c5ac64c0a0faf90a26",
       "version_major": 2,
       "version_minor": 0
      },
      "text/plain": [
       "MitoWidget(analysis_name='UUID-6538ead2-f053-4b1e-9679-bb0627575a4b', code_json='{\"imports\": \"from mitosheet i…"
      ]
     },
     "metadata": {},
     "output_type": "display_data"
    },
    {
     "data": {},
     "execution_count": 3,
     "metadata": {},
     "output_type": "execute_result"
    }
   ],
   "source": [
    "import math\n",
    "import numpy as np\n",
    "import json\n",
    "import altair as alt\n",
    "from urllib.request import urlopen\n",
    "#from xml.etree.ElementTree import parse\n",
    "import urllib\n",
    "import urllib.parse as urlparse\n",
    "import requests\n",
    "import pandas as pd\n",
    "import mitosheet\n",
    "import fuzzywuzzy\n",
    "from fuzzywuzzy import fuzz\n",
    "from fuzzywuzzy import process\n",
    "\n",
    "def bigask ():\n",
    "    dct = {}\n",
    "    for col in ['oa','author','year','title','doi','cited','aff']:\n",
    "        dct[col] = []\n",
    "\n",
    "    cr_mrk= '' #current cursor mark\n",
    "    nxt_mrk = '*' #next cursor mark\n",
    "    while cr_mrk != nxt_mrk:              \n",
    "        url = 'https://www.ebi.ac.uk/europepmc/webservices/rest/search?'\n",
    "        query = '(AFF:\"University of Virginia\") AND (FIRST_PDATE:[2017-01-01 TO 2020-12-31])'\n",
    "        params = {'query':query, 'resultType':'core', 'synonym':'TRUE','cursorMark':nxt_mrk,'pageSize':'1000','format':'json'}\n",
    "        response = requests.get(url,params)\n",
    "        rjson = response.json()\n",
    "        cr_mrk = urlparse.unquote(rjson['request']['cursorMark'])\n",
    "        nxt_mrk = urlparse.unquote(rjson['nextCursorMark'])\n",
    "        for rslt in rjson['resultList']['result']:\n",
    "            dct['author'].append(rslt['authorString']) if 'authorString' in rslt.keys() else dct['author'].append(0)\n",
    "            dct['year'].append(rslt['pubYear']) if 'pubYear' in rslt.keys() else dct['year'].append(0)\n",
    "            dct['title'].append(rslt['title']) if 'title' in rslt.keys() else dct['title'].append(0)\n",
    "            dct['doi'].append(rslt['doi']) if 'doi' in rslt.keys() else dct['doi'].append(0)\n",
    "#           dct['id'].append(rslt['id']) if 'id' in rslt.keys() else dct['id'].append(0)\n",
    "            dct['oa'].append(rslt['isOpenAccess']) if 'isOpenAccess' in rslt.keys() else dct['oa'].append(0)\n",
    "            dct['cited'].append(rslt['citedByCount']) if 'citedByCount' in rslt.keys() else dct['cited'].append(0) \n",
    "            dct['aff'].append(rslt['affiliation']) if 'affiliation' in rslt.keys() else dct['aff'].append(0) \n",
    "    df=pd.DataFrame.from_dict(dct, orient='columns')\n",
    "    return df\n",
    "dfdata=bigask()\n",
    "mitosheet.sheet(dfdata)"
   ]
  },
  {
   "cell_type": "code",
   "execution_count": null,
   "id": "9fc4a33e-3d57-4df8-aee0-642633716f14",
   "metadata": {
    "kernel": "SoS"
   },
   "outputs": [],
   "source": []
  },
  {
   "cell_type": "code",
   "execution_count": null,
   "id": "59a30b26-22c0-446b-acf0-2c23e1eb3267",
   "metadata": {
    "kernel": "SoS"
   },
   "outputs": [],
   "source": []
  }
 ],
 "metadata": {
  "kernelspec": {
   "display_name": "SoS",
   "language": "sos",
   "name": "sos"
  },
  "language_info": {
   "codemirror_mode": "sos",
   "file_extension": ".sos",
   "mimetype": "text/x-sos",
   "name": "sos",
   "nbconvert_exporter": "sos_notebook.converter.SoS_Exporter",
   "pygments_lexer": "sos"
  },
  "sos": {
   "kernels": [
    [
     "SoS",
     "sos",
     "",
     ""
    ]
   ],
   "version": "0.22.3"
  }
 },
 "nbformat": 4,
 "nbformat_minor": 5
}
