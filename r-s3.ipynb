{
 "cells": [
  {
   "cell_type": "code",
   "execution_count": 6,
   "id": "888d68f7-3719-4ccd-b27c-781d26153903",
   "metadata": {},
   "outputs": [
    {
     "data": {
      "text/html": [],
      "text/latex": [],
      "text/markdown": [],
      "text/plain": [
       "<0 x 0 matrix>"
      ]
     },
     "metadata": {},
     "output_type": "display_data"
    },
    {
     "data": {
      "text/plain": [
       "Bucket: \n",
       "\n",
       "named list()"
      ]
     },
     "metadata": {},
     "output_type": "display_data"
    }
   ],
   "source": [
    "library(aws.s3)\n",
    "library(arrow)\n",
    "endpoint_url=\"idbllzgo8pgz.compat.objectstorage.us-ashburn-1.oraclecloud.com\"\n",
    "\n",
    "\n",
    "Sys.setenv(\n",
    "  \"AWS_ACCESS_KEY_ID\" = Sys.getenv(\"S3_KEY_ID\"),\n",
    "  \"AWS_SECRET_ACCESS_KEY\" = Sys.getenv(\"S3_ACCESS_KEY\"),\n",
    "  \"AWS_DEFAULT_REGION\" = \"us-ashburn-1\",\n",
    "  \"AWS_S3_ENDPOINT\" = endpoint_url\n",
    ")\n",
    "\n",
    "bucketlist(region = \"\")\n",
    "\n",
    "# specify keys in-line\n",
    "get_bucket(\n",
    "  bucket = \"virginia-court-data-code4cville\",\n",
    "  key = \"cbb3ce342492c2f7a8c215d82fac34efcbc18773\",\n",
    "  secret = \"iujrafb3h5yThT7QNXsptfIG4srJ5/J3/VLqiaHJ/mM=\", region = \"\"\n",
    ")"
   ]
  },
  {
   "cell_type": "code",
   "execution_count": null,
   "id": "77eebacc-40b1-468b-a793-ee2b488b3ba5",
   "metadata": {},
   "outputs": [],
   "source": []
  },
  {
   "cell_type": "code",
   "execution_count": null,
   "id": "94125a2e-757e-444d-8d22-e8ebd22df358",
   "metadata": {},
   "outputs": [],
   "source": []
  }
 ],
 "metadata": {
  "kernelspec": {
   "display_name": "R",
   "language": "R",
   "name": "ir"
  },
  "language_info": {
   "codemirror_mode": "r",
   "file_extension": ".r",
   "mimetype": "text/x-r-source",
   "name": "R",
   "pygments_lexer": "r",
   "version": "4.0.5"
  }
 },
 "nbformat": 4,
 "nbformat_minor": 5
}
